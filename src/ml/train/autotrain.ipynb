{
 "cells": [
  {
   "cell_type": "code",
   "execution_count": null,
   "metadata": {},
   "outputs": [],
   "source": [
    "import yaml\n",
    "\n",
    "with open(\"../config/first_train.yaml\", \"r\") as f:\n",
    "    config = yaml.load(f, Loader=yaml.FullLoader)\n",
    "\n",
    "hf_token = \"\"\n",
    "\n",
    "!autotrain llm \\\n",
    "--train \\\n",
    "--model config[\"model_name\"] \\\n",
    "--project-name config[\"project_name\"] \\\n",
    "--data-path data/ \\\n",
    "--text-column text \\\n",
    "--lr config[\"learning_rate\"] \\\n",
    "--batch-size config[\"batch_size\"] \\\n",
    "--epochs config[\"num_epochs\"] \\\n",
    "--block-size config[\"block_size\"] \\\n",
    "--warmup-ratio config[\"warmup_ratio\"] \\\n",
    "--lora-r config[\"lora_r\"] \\\n",
    "--lora-alpha config[\"lora_alpha\"] \\\n",
    "--lora-dropout config[\"lora_dropout\"] \\\n",
    "--weight-decay config[\"weight_decay\"] \\\n",
    "--gradient-accumulation config[\"gradient_accumulation\"] \\\n",
    "$( [[ \"config[\"use_peft\"]\" == \"true\" ]] && echo \"--use-peft\" ) \\\n",
    "$( [[ \"config[\"push_to_hub\"]\" == \"true\" ]] && echo \"--push-to-hub --token YOUR_TOKEN --repo-id YOUR_REPO_ID\" )\n"
   ]
  }
 ],
 "metadata": {
  "language_info": {
   "name": "python"
  }
 },
 "nbformat": 4,
 "nbformat_minor": 2
}
