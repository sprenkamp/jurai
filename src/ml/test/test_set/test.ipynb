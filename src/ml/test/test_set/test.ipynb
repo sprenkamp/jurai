{
 "cells": [
  {
   "cell_type": "code",
   "execution_count": 3,
   "metadata": {},
   "outputs": [],
   "source": [
    "import pandas as pd\n",
    "\n",
    "df1 = pd.read_csv('test_sample.csv', sep=';', on_bad_lines='skip')  \n",
    "df2 = pd.read_csv('FragenkatalogLLM.csv', sep=',', on_bad_lines='skip')"
   ]
  },
  {
   "cell_type": "code",
   "execution_count": 5,
   "metadata": {},
   "outputs": [
    {
     "name": "stdout",
     "output_type": "stream",
     "text": [
      "df1: Index(['Question', 'Answer'], dtype='object')\n",
      "df2: Index(['#', 'Prompt', 'Review', 'Answer LLM', 'Perfect answer/ outline'], dtype='object')\n"
     ]
    }
   ],
   "source": [
    "print(\"df1:\", df1.columns)\n",
    "print(\"df2:\", df2.columns)"
   ]
  },
  {
   "cell_type": "code",
   "execution_count": 6,
   "metadata": {},
   "outputs": [],
   "source": [
    "merged_df = df1.rename(columns={'Question': 'Prompt', 'Answer': 'Perfect answer/ outline'}).merge(df2, on=['Prompt', 'Perfect answer/ outline'])"
   ]
  },
  {
   "cell_type": "code",
   "execution_count": 7,
   "metadata": {},
   "outputs": [],
   "source": [
    "df_merged = pd.DataFrame(merged_df)"
   ]
  },
  {
   "cell_type": "code",
   "execution_count": 9,
   "metadata": {},
   "outputs": [
    {
     "data": {
      "text/html": [
       "<div>\n",
       "<style scoped>\n",
       "    .dataframe tbody tr th:only-of-type {\n",
       "        vertical-align: middle;\n",
       "    }\n",
       "\n",
       "    .dataframe tbody tr th {\n",
       "        vertical-align: top;\n",
       "    }\n",
       "\n",
       "    .dataframe thead th {\n",
       "        text-align: right;\n",
       "    }\n",
       "</style>\n",
       "<table border=\"1\" class=\"dataframe\">\n",
       "  <thead>\n",
       "    <tr style=\"text-align: right;\">\n",
       "      <th></th>\n",
       "      <th>Prompt</th>\n",
       "      <th>Perfect answer/ outline</th>\n",
       "      <th>#</th>\n",
       "      <th>Review</th>\n",
       "      <th>Answer LLM</th>\n",
       "    </tr>\n",
       "  </thead>\n",
       "  <tbody>\n",
       "  </tbody>\n",
       "</table>\n",
       "</div>"
      ],
      "text/plain": [
       "Empty DataFrame\n",
       "Columns: [Prompt, Perfect answer/ outline, #, Review, Answer LLM]\n",
       "Index: []"
      ]
     },
     "execution_count": 9,
     "metadata": {},
     "output_type": "execute_result"
    }
   ],
   "source": [
    "merged_df"
   ]
  },
  {
   "cell_type": "code",
   "execution_count": null,
   "metadata": {},
   "outputs": [],
   "source": []
  },
  {
   "cell_type": "code",
   "execution_count": null,
   "metadata": {},
   "outputs": [],
   "source": [
    "# First, rename the columns in df1 and df2 to match each other\n",
    "df1.columns = ['Prompt', 'Perfect answer/ outline']\n",
    "df2 = df2[['Prompt', 'Perfect answer/ outline']]\n",
    "\n",
    "# Now, concatenate the dataframes\n",
    "df = pd.concat([df1, df2], ignore_index=True)"
   ]
  },
  {
   "cell_type": "code",
   "execution_count": 10,
   "metadata": {},
   "outputs": [],
   "source": [
    "# Select the corresponding columns from df2 and rename them to match df1\n",
    "df2_selected = df2[['Prompt', 'Perfect answer/ outline']].rename(columns={'Prompt': 'Question', 'Perfect answer/ outline': 'Answer'})\n",
    "\n",
    "# Now, concatenate the dataframes\n",
    "df = pd.concat([df1, df2_selected], ignore_index=True)"
   ]
  },
  {
   "cell_type": "code",
   "execution_count": 3,
   "metadata": {},
   "outputs": [],
   "source": [
    "import pandas as pd\n",
    "df = pd.read_csv('test_sample.csv')\n",
    "df.to_csv('test_sample.csv', index=False, sep=';')"
   ]
  },
  {
   "cell_type": "code",
   "execution_count": null,
   "metadata": {},
   "outputs": [],
   "source": []
  }
 ],
 "metadata": {
  "kernelspec": {
   "display_name": "jurai",
   "language": "python",
   "name": "python3"
  },
  "language_info": {
   "codemirror_mode": {
    "name": "ipython",
    "version": 3
   },
   "file_extension": ".py",
   "mimetype": "text/x-python",
   "name": "python",
   "nbconvert_exporter": "python",
   "pygments_lexer": "ipython3",
   "version": "3.11.7"
  }
 },
 "nbformat": 4,
 "nbformat_minor": 2
}
