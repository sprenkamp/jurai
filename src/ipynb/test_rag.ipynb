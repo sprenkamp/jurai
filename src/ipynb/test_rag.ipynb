{
 "cells": [
  {
   "cell_type": "code",
   "execution_count": 1,
   "metadata": {},
   "outputs": [
    {
     "name": "stdout",
     "output_type": "stream",
     "text": [
      "                                              System  \\\n",
      "0  Du bist JurAI und ein deutscher Rechtsexperte,...   \n",
      "1  Du bist JurAI und ein deutscher Rechtsexperte,...   \n",
      "2  Du bist JurAI und ein deutscher Rechtsexperte,...   \n",
      "3  Du bist JurAI und ein deutscher Rechtsexperte,...   \n",
      "4  Du bist JurAI und ein deutscher Rechtsexperte,...   \n",
      "\n",
      "                       User                                          Assistant  \n",
      "0   Was steht in § 481 BGB?  § 481  Teilzeit-Wohnrechtevertrag\\n(1) Ein Tei...  \n",
      "1  Was steht in § 323b ZPO?  § 323b  Verschärfte Haftung\\nDie Rechtshängigk...  \n",
      "2  Was steht in § 1054 BGB?  § 1054  Gerichtliche Verwaltung wegen Pflichtv...  \n",
      "3   Was steht in § 771 ZPO?  § 771  Drittwiderspruchsklage\\n(1) Behauptet e...  \n",
      "4    Was steht in § 92 BGB?  § 92 Verbrauchbare Sachen\\n(1) Verbrauchbare S...  \n"
     ]
    },
    {
     "name": "stderr",
     "output_type": "stream",
     "text": [
      "/var/folders/jx/2l7p1chd2l7djbz_8s3s_4z80000gn/T/ipykernel_5654/1213618071.py:42: FutureWarning: DataFrame.applymap has been deprecated. Use DataFrame.map instead.\n",
      "  df = df[df.applymap(lambda x: isinstance(x, str)).all(axis=1)]\n"
     ]
    }
   ],
   "source": [
    "import pandas as pd\n",
    "import json\n",
    "\n",
    "# Step 1: Read the JSON Lines file into a list of dictionaries\n",
    "file_path = '../../data/train_data.json'\n",
    "with open(file_path, 'r') as file:\n",
    "    lines = file.readlines()\n",
    "    data = [json.loads(line) for line in lines]\n",
    "\n",
    "# Step 2: Iterate over the list to extract messages by role\n",
    "system_messages = []\n",
    "user_messages = []\n",
    "assistant_messages = []\n",
    "\n",
    "for item in data:\n",
    "    system_msg = None\n",
    "    user_msg = None\n",
    "    assistant_msg = None\n",
    "    \n",
    "    for message in item['messages']:\n",
    "        if message['role'] == 'system':\n",
    "            system_msg = message['content']\n",
    "        elif message['role'] == 'user':\n",
    "            user_msg = message['content']\n",
    "        elif message['role'] == 'assistant':\n",
    "            assistant_msg = message['content']\n",
    "            \n",
    "    system_messages.append(system_msg)\n",
    "    user_messages.append(user_msg)\n",
    "    assistant_messages.append(assistant_msg)\n",
    "\n",
    "# Step 3: Construct a DataFrame from the lists\n",
    "df = pd.DataFrame({\n",
    "    'System': system_messages,\n",
    "    'User': user_messages,\n",
    "    'Assistant': assistant_messages\n",
    "})\n",
    "\n",
    "# Show the DataFrame to verify its structure\n",
    "print(df.head())\n",
    "\n",
    "df = df[df.applymap(lambda x: isinstance(x, str)).all(axis=1)]\n",
    "\n",
    "import tiktoken\n",
    "\n",
    "\n",
    "# To get the tokeniser corresponding to a specific model in the OpenAI API:\n",
    "enc = tiktoken.encoding_for_model(\"gpt-4\")\n",
    "\n",
    "df[\"Assistant_token_length\"] = df[\"Assistant\"].apply(lambda x: len(enc.encode(x)))\n",
    "df.to_csv('../../data/train.csv', index=False)\n"
   ]
  },
  {
   "cell_type": "code",
   "execution_count": 10,
   "metadata": {},
   "outputs": [
    {
     "data": {
      "text/plain": [
       "29456"
      ]
     },
     "execution_count": 10,
     "metadata": {},
     "output_type": "execute_result"
    }
   ],
   "source": [
    "len(data)"
   ]
  },
  {
   "cell_type": "code",
   "execution_count": 7,
   "metadata": {},
   "outputs": [
    {
     "data": {
      "text/plain": [
       "{'role': 'assistant',\n",
       " 'content': '§ 481 \\xa0Teilzeit-Wohnrechtevertrag\\n(1) Ein Teilzeit-Wohnrechtevertrag ist ein Vertrag, durch den ein Unternehmer einem Verbraucher gegen\\nZahlung eines Gesamtpreises das Recht verschafft oder zu verschaffen verspricht, für die Dauer von\\nmehr als einem Jahr ein Wohngebäude mehrfach für einen bestimmten oder zu bestimmenden Zeitraum\\nzu Übernachtungszwecken zu nutzen. Bei der Berechnung der Vertragsdauer sind sämtliche im Vertrag\\nvorgesehenen Verlängerungsmöglichkeiten zu berücksichtigen.\\n(2) Das Recht kann ein dingliches oder anderes Recht sein und insbesondere auch durch eine Mitgliedschaft in\\neinem Verein oder einen Anteil an einer Gesellschaft eingeräumt werden. Das Recht kann auch darin bestehen,\\naus einem Bestand von Wohngebäuden ein Wohngebäude zur Nutzung zu wählen.\\n(3) Einem Wohngebäude steht ein Teil eines Wohngebäudes gleich, ebenso eine bewegliche, als\\nÜbernachtungsunterkunft gedachte Sache oder ein Teil derselben.'}"
      ]
     },
     "execution_count": 7,
     "metadata": {},
     "output_type": "execute_result"
    }
   ],
   "source": [
    "data[0]['messages'][2][\"content\"]"
   ]
  },
  {
   "cell_type": "code",
   "execution_count": 15,
   "metadata": {},
   "outputs": [],
   "source": [
    "import pandas as pd\n",
    "df = pd.read_csv('../../data/train.csv')\n",
    "df.dropna(inplace=True)"
   ]
  },
  {
   "cell_type": "code",
   "execution_count": 16,
   "metadata": {},
   "outputs": [
    {
     "data": {
      "text/html": [
       "<div>\n",
       "<style scoped>\n",
       "    .dataframe tbody tr th:only-of-type {\n",
       "        vertical-align: middle;\n",
       "    }\n",
       "\n",
       "    .dataframe tbody tr th {\n",
       "        vertical-align: top;\n",
       "    }\n",
       "\n",
       "    .dataframe thead th {\n",
       "        text-align: right;\n",
       "    }\n",
       "</style>\n",
       "<table border=\"1\" class=\"dataframe\">\n",
       "  <thead>\n",
       "    <tr style=\"text-align: right;\">\n",
       "      <th></th>\n",
       "      <th>System</th>\n",
       "      <th>User</th>\n",
       "      <th>Assistant</th>\n",
       "      <th>Assistant_token_length</th>\n",
       "    </tr>\n",
       "  </thead>\n",
       "  <tbody>\n",
       "    <tr>\n",
       "      <th>0</th>\n",
       "      <td>Du bist JurAI und ein deutscher Rechtsexperte,...</td>\n",
       "      <td>Was steht in § 481 BGB?</td>\n",
       "      <td>§ 481  Teilzeit-Wohnrechtevertrag\\n(1) Ein Tei...</td>\n",
       "      <td>270</td>\n",
       "    </tr>\n",
       "    <tr>\n",
       "      <th>1</th>\n",
       "      <td>Du bist JurAI und ein deutscher Rechtsexperte,...</td>\n",
       "      <td>Was steht in § 323b ZPO?</td>\n",
       "      <td>§ 323b  Verschärfte Haftung\\nDie Rechtshängigk...</td>\n",
       "      <td>81</td>\n",
       "    </tr>\n",
       "    <tr>\n",
       "      <th>2</th>\n",
       "      <td>Du bist JurAI und ein deutscher Rechtsexperte,...</td>\n",
       "      <td>Was steht in § 1054 BGB?</td>\n",
       "      <td>§ 1054  Gerichtliche Verwaltung wegen Pflichtv...</td>\n",
       "      <td>95</td>\n",
       "    </tr>\n",
       "    <tr>\n",
       "      <th>3</th>\n",
       "      <td>Du bist JurAI und ein deutscher Rechtsexperte,...</td>\n",
       "      <td>Was steht in § 771 ZPO?</td>\n",
       "      <td>§ 771  Drittwiderspruchsklage\\n(1) Behauptet e...</td>\n",
       "      <td>227</td>\n",
       "    </tr>\n",
       "    <tr>\n",
       "      <th>4</th>\n",
       "      <td>Du bist JurAI und ein deutscher Rechtsexperte,...</td>\n",
       "      <td>Was steht in § 92 BGB?</td>\n",
       "      <td>§ 92 Verbrauchbare Sachen\\n(1) Verbrauchbare S...</td>\n",
       "      <td>122</td>\n",
       "    </tr>\n",
       "    <tr>\n",
       "      <th>...</th>\n",
       "      <td>...</td>\n",
       "      <td>...</td>\n",
       "      <td>...</td>\n",
       "      <td>...</td>\n",
       "    </tr>\n",
       "    <tr>\n",
       "      <th>29417</th>\n",
       "      <td>Du bist JurAI und ein deutscher Rechtsexperte,...</td>\n",
       "      <td>Worum geht es in der Entscheidung?\\nGericht:LG...</td>\n",
       "      <td>Gericht:LG Stuttgart 53. Zivil­kammer Entsch...</td>\n",
       "      <td>36197</td>\n",
       "    </tr>\n",
       "    <tr>\n",
       "      <th>29418</th>\n",
       "      <td>Du bist JurAI und ein deutscher Rechtsexperte,...</td>\n",
       "      <td>Worum geht es in der Entscheidung?\\nGericht:FG...</td>\n",
       "      <td>Gericht:FG Köln 7. Senat Entschei­dungs­datu...</td>\n",
       "      <td>9573</td>\n",
       "    </tr>\n",
       "    <tr>\n",
       "      <th>29419</th>\n",
       "      <td>Du bist JurAI und ein deutscher Rechtsexperte,...</td>\n",
       "      <td>Worum geht es in der Entscheidung?\\nGericht:OL...</td>\n",
       "      <td>Gericht:OLG München Senat für Famili­en­sach...</td>\n",
       "      <td>3274</td>\n",
       "    </tr>\n",
       "    <tr>\n",
       "      <th>29420</th>\n",
       "      <td>Du bist JurAI und ein deutscher Rechtsexperte,...</td>\n",
       "      <td>Worum geht es in der Entscheidung?\\nGericht:OL...</td>\n",
       "      <td>Gericht:OLG Celle 7. Zivil­senat Entschei­du...</td>\n",
       "      <td>9261</td>\n",
       "    </tr>\n",
       "    <tr>\n",
       "      <th>29421</th>\n",
       "      <td>Du bist JurAI und ein deutscher Rechtsexperte,...</td>\n",
       "      <td>Worum geht es in der Entscheidung?\\nGericht:OL...</td>\n",
       "      <td>Gericht:OLG Stuttgart 1. Straf­senat Entsche...</td>\n",
       "      <td>7585</td>\n",
       "    </tr>\n",
       "  </tbody>\n",
       "</table>\n",
       "<p>29411 rows × 4 columns</p>\n",
       "</div>"
      ],
      "text/plain": [
       "                                                  System  \\\n",
       "0      Du bist JurAI und ein deutscher Rechtsexperte,...   \n",
       "1      Du bist JurAI und ein deutscher Rechtsexperte,...   \n",
       "2      Du bist JurAI und ein deutscher Rechtsexperte,...   \n",
       "3      Du bist JurAI und ein deutscher Rechtsexperte,...   \n",
       "4      Du bist JurAI und ein deutscher Rechtsexperte,...   \n",
       "...                                                  ...   \n",
       "29417  Du bist JurAI und ein deutscher Rechtsexperte,...   \n",
       "29418  Du bist JurAI und ein deutscher Rechtsexperte,...   \n",
       "29419  Du bist JurAI und ein deutscher Rechtsexperte,...   \n",
       "29420  Du bist JurAI und ein deutscher Rechtsexperte,...   \n",
       "29421  Du bist JurAI und ein deutscher Rechtsexperte,...   \n",
       "\n",
       "                                                    User  \\\n",
       "0                                Was steht in § 481 BGB?   \n",
       "1                               Was steht in § 323b ZPO?   \n",
       "2                               Was steht in § 1054 BGB?   \n",
       "3                                Was steht in § 771 ZPO?   \n",
       "4                                 Was steht in § 92 BGB?   \n",
       "...                                                  ...   \n",
       "29417  Worum geht es in der Entscheidung?\\nGericht:LG...   \n",
       "29418  Worum geht es in der Entscheidung?\\nGericht:FG...   \n",
       "29419  Worum geht es in der Entscheidung?\\nGericht:OL...   \n",
       "29420  Worum geht es in der Entscheidung?\\nGericht:OL...   \n",
       "29421  Worum geht es in der Entscheidung?\\nGericht:OL...   \n",
       "\n",
       "                                               Assistant  \\\n",
       "0      § 481  Teilzeit-Wohnrechtevertrag\\n(1) Ein Tei...   \n",
       "1      § 323b  Verschärfte Haftung\\nDie Rechtshängigk...   \n",
       "2      § 1054  Gerichtliche Verwaltung wegen Pflichtv...   \n",
       "3      § 771  Drittwiderspruchsklage\\n(1) Behauptet e...   \n",
       "4      § 92 Verbrauchbare Sachen\\n(1) Verbrauchbare S...   \n",
       "...                                                  ...   \n",
       "29417    Gericht:LG Stuttgart 53. Zivil­kammer Entsch...   \n",
       "29418    Gericht:FG Köln 7. Senat Entschei­dungs­datu...   \n",
       "29419    Gericht:OLG München Senat für Famili­en­sach...   \n",
       "29420    Gericht:OLG Celle 7. Zivil­senat Entschei­du...   \n",
       "29421    Gericht:OLG Stuttgart 1. Straf­senat Entsche...   \n",
       "\n",
       "       Assistant_token_length  \n",
       "0                         270  \n",
       "1                          81  \n",
       "2                          95  \n",
       "3                         227  \n",
       "4                         122  \n",
       "...                       ...  \n",
       "29417                   36197  \n",
       "29418                    9573  \n",
       "29419                    3274  \n",
       "29420                    9261  \n",
       "29421                    7585  \n",
       "\n",
       "[29411 rows x 4 columns]"
      ]
     },
     "execution_count": 16,
     "metadata": {},
     "output_type": "execute_result"
    }
   ],
   "source": [
    "df\n"
   ]
  },
  {
   "cell_type": "code",
   "execution_count": 19,
   "metadata": {},
   "outputs": [
    {
     "data": {
      "text/html": [
       "<div>\n",
       "<style scoped>\n",
       "    .dataframe tbody tr th:only-of-type {\n",
       "        vertical-align: middle;\n",
       "    }\n",
       "\n",
       "    .dataframe tbody tr th {\n",
       "        vertical-align: top;\n",
       "    }\n",
       "\n",
       "    .dataframe thead th {\n",
       "        text-align: right;\n",
       "    }\n",
       "</style>\n",
       "<table border=\"1\" class=\"dataframe\">\n",
       "  <thead>\n",
       "    <tr style=\"text-align: right;\">\n",
       "      <th></th>\n",
       "      <th>System</th>\n",
       "      <th>User</th>\n",
       "      <th>Assistant</th>\n",
       "      <th>Assistant_token_length</th>\n",
       "    </tr>\n",
       "  </thead>\n",
       "  <tbody>\n",
       "    <tr>\n",
       "      <th>0</th>\n",
       "      <td>Du bist JurAI und ein deutscher Rechtsexperte,...</td>\n",
       "      <td>Was steht in § 481 BGB?</td>\n",
       "      <td>§ 481  Teilzeit-Wohnrechtevertrag\\n(1) Ein Tei...</td>\n",
       "      <td>270</td>\n",
       "    </tr>\n",
       "    <tr>\n",
       "      <th>1</th>\n",
       "      <td>Du bist JurAI und ein deutscher Rechtsexperte,...</td>\n",
       "      <td>Was steht in § 323b ZPO?</td>\n",
       "      <td>§ 323b  Verschärfte Haftung\\nDie Rechtshängigk...</td>\n",
       "      <td>81</td>\n",
       "    </tr>\n",
       "    <tr>\n",
       "      <th>2</th>\n",
       "      <td>Du bist JurAI und ein deutscher Rechtsexperte,...</td>\n",
       "      <td>Was steht in § 1054 BGB?</td>\n",
       "      <td>§ 1054  Gerichtliche Verwaltung wegen Pflichtv...</td>\n",
       "      <td>95</td>\n",
       "    </tr>\n",
       "    <tr>\n",
       "      <th>3</th>\n",
       "      <td>Du bist JurAI und ein deutscher Rechtsexperte,...</td>\n",
       "      <td>Was steht in § 771 ZPO?</td>\n",
       "      <td>§ 771  Drittwiderspruchsklage\\n(1) Behauptet e...</td>\n",
       "      <td>227</td>\n",
       "    </tr>\n",
       "    <tr>\n",
       "      <th>4</th>\n",
       "      <td>Du bist JurAI und ein deutscher Rechtsexperte,...</td>\n",
       "      <td>Was steht in § 92 BGB?</td>\n",
       "      <td>§ 92 Verbrauchbare Sachen\\n(1) Verbrauchbare S...</td>\n",
       "      <td>122</td>\n",
       "    </tr>\n",
       "    <tr>\n",
       "      <th>...</th>\n",
       "      <td>...</td>\n",
       "      <td>...</td>\n",
       "      <td>...</td>\n",
       "      <td>...</td>\n",
       "    </tr>\n",
       "    <tr>\n",
       "      <th>12922</th>\n",
       "      <td>Du bist JurAI und ein deutscher Rechtsexperte,...</td>\n",
       "      <td>Worum geht es in der Entscheidung?\\nGericht:LG...</td>\n",
       "      <td>Gericht:LG Berlin 103. Kammer für Handelssac...</td>\n",
       "      <td>6181</td>\n",
       "    </tr>\n",
       "    <tr>\n",
       "      <th>13036</th>\n",
       "      <td>Du bist JurAI und ein deutscher Rechtsexperte,...</td>\n",
       "      <td>Worum geht es in der Entscheidung?\\nGericht:BG...</td>\n",
       "      <td>Gericht:BGH 6. Zivil­senat Entschei­dungsnam...</td>\n",
       "      <td>13698</td>\n",
       "    </tr>\n",
       "    <tr>\n",
       "      <th>15799</th>\n",
       "      <td>Du bist JurAI und ein deutscher Rechtsexperte,...</td>\n",
       "      <td>Worum geht es in der Entscheidung?\\nGericht:AG...</td>\n",
       "      <td>Gericht:AG AhrensburgEntschei­dungs­datum:06.0...</td>\n",
       "      <td>16141</td>\n",
       "    </tr>\n",
       "    <tr>\n",
       "      <th>22122</th>\n",
       "      <td>Du bist JurAI und ein deutscher Rechtsexperte,...</td>\n",
       "      <td>Worum geht es in der Entscheidung?\\nGericht:AG...</td>\n",
       "      <td>Gericht:AG AhausEntschei­dungs­datum:30.03.202...</td>\n",
       "      <td>3109</td>\n",
       "    </tr>\n",
       "    <tr>\n",
       "      <th>24394</th>\n",
       "      <td>Du bist JurAI und ein deutscher Rechtsexperte,...</td>\n",
       "      <td>Worum geht es in der Entscheidung?\\nGericht:BG...</td>\n",
       "      <td>Gericht:BGH 6. Zivil­senat Entschei­dungsnam...</td>\n",
       "      <td>15872</td>\n",
       "    </tr>\n",
       "  </tbody>\n",
       "</table>\n",
       "<p>4351 rows × 4 columns</p>\n",
       "</div>"
      ],
      "text/plain": [
       "                                                  System  \\\n",
       "0      Du bist JurAI und ein deutscher Rechtsexperte,...   \n",
       "1      Du bist JurAI und ein deutscher Rechtsexperte,...   \n",
       "2      Du bist JurAI und ein deutscher Rechtsexperte,...   \n",
       "3      Du bist JurAI und ein deutscher Rechtsexperte,...   \n",
       "4      Du bist JurAI und ein deutscher Rechtsexperte,...   \n",
       "...                                                  ...   \n",
       "12922  Du bist JurAI und ein deutscher Rechtsexperte,...   \n",
       "13036  Du bist JurAI und ein deutscher Rechtsexperte,...   \n",
       "15799  Du bist JurAI und ein deutscher Rechtsexperte,...   \n",
       "22122  Du bist JurAI und ein deutscher Rechtsexperte,...   \n",
       "24394  Du bist JurAI und ein deutscher Rechtsexperte,...   \n",
       "\n",
       "                                                    User  \\\n",
       "0                                Was steht in § 481 BGB?   \n",
       "1                               Was steht in § 323b ZPO?   \n",
       "2                               Was steht in § 1054 BGB?   \n",
       "3                                Was steht in § 771 ZPO?   \n",
       "4                                 Was steht in § 92 BGB?   \n",
       "...                                                  ...   \n",
       "12922  Worum geht es in der Entscheidung?\\nGericht:LG...   \n",
       "13036  Worum geht es in der Entscheidung?\\nGericht:BG...   \n",
       "15799  Worum geht es in der Entscheidung?\\nGericht:AG...   \n",
       "22122  Worum geht es in der Entscheidung?\\nGericht:AG...   \n",
       "24394  Worum geht es in der Entscheidung?\\nGericht:BG...   \n",
       "\n",
       "                                               Assistant  \\\n",
       "0      § 481  Teilzeit-Wohnrechtevertrag\\n(1) Ein Tei...   \n",
       "1      § 323b  Verschärfte Haftung\\nDie Rechtshängigk...   \n",
       "2      § 1054  Gerichtliche Verwaltung wegen Pflichtv...   \n",
       "3      § 771  Drittwiderspruchsklage\\n(1) Behauptet e...   \n",
       "4      § 92 Verbrauchbare Sachen\\n(1) Verbrauchbare S...   \n",
       "...                                                  ...   \n",
       "12922    Gericht:LG Berlin 103. Kammer für Handelssac...   \n",
       "13036    Gericht:BGH 6. Zivil­senat Entschei­dungsnam...   \n",
       "15799  Gericht:AG AhrensburgEntschei­dungs­datum:06.0...   \n",
       "22122  Gericht:AG AhausEntschei­dungs­datum:30.03.202...   \n",
       "24394    Gericht:BGH 6. Zivil­senat Entschei­dungsnam...   \n",
       "\n",
       "       Assistant_token_length  \n",
       "0                         270  \n",
       "1                          81  \n",
       "2                          95  \n",
       "3                         227  \n",
       "4                         122  \n",
       "...                       ...  \n",
       "12922                    6181  \n",
       "13036                   13698  \n",
       "15799                   16141  \n",
       "22122                    3109  \n",
       "24394                   15872  \n",
       "\n",
       "[4351 rows x 4 columns]"
      ]
     },
     "execution_count": 19,
     "metadata": {},
     "output_type": "execute_result"
    }
   ],
   "source": [
    "df[df.User.str.contains('Art') | df.User.str.contains('§')]#.to_csv('../../data/train_laws.csv', index=False)"
   ]
  },
  {
   "cell_type": "code",
   "execution_count": 20,
   "metadata": {},
   "outputs": [
    {
     "name": "stderr",
     "output_type": "stream",
     "text": [
      "Warning: model not found. Using cl100k_base encoding.\n"
     ]
    },
    {
     "name": "stderr",
     "output_type": "stream",
     "text": [
      "Warning: model not found. Using cl100k_base encoding.\n",
      "Warning: model not found. Using cl100k_base encoding.\n"
     ]
    },
    {
     "name": "stdout",
     "output_type": "stream",
     "text": [
      "\n",
      "Cosine Similarity 1 -> 2: 0.78\n",
      "Cosine Similarity 1 -> 3: 0.62\n",
      "Cosine Similarity 2 -> 3: 0.55\n",
      "\n",
      "\n",
      "Cosine Distance 1 -> 2: 0.22\n",
      "Cosine Distance 1 -> 3: 0.38\n",
      "Cosine Distance 2 -> 3: 0.45\n",
      "\n"
     ]
    }
   ],
   "source": [
    "\n",
    "\n",
    "\n",
    "text1 = 'Was steht in Art. 1 GG?'\n",
    "text2 = 'Was steht in Art. 1 GG?Art 1 (1) Die Würde des Menschen ist unantastbar. Sie zu achten und zu schützen ist Verpflichtung aller staatlichen Gewalt. (2) Das Deutsche Volk bekennt sich darum zu unverletzlichen und unveräußerlichen Menschenrechten als Grundlage jeder menschlichen Gemeinschaft, des Friedens und der Gerechtigkeit in der Welt. (3) Die nachfolgenden Grundrechte binden Gesetzgebung, vollziehende Gewalt und Rechtsprechung als unmittelbar geltendes Recht.'\n",
    "text3 = 'Was steht in Art. 41 GG?Art 41 (1) Die Wahlprüfung ist Sache des Bundestages. Er entscheidet auch, ob ein Abgeordneter des Bundestages die Mitgliedschaft verloren hat. (2) Gegen die Entscheidung des Bundestages ist die Beschwerde an das Bundesverfassungsgericht zulässig. (3) Das Nähere regelt ein Bundesgesetz.'\n",
    "emb1 = embedding.embed_query(text1)\n",
    "emb2 = embedding.embed_query(text2)\n",
    "emb3 = embedding.embed_query(text3)\n",
    "\n",
    "\n",
    "\n",
    "# Calculate the cosine similarities\n",
    "cos_sim_1_2 = cosine_similarity(emb1, emb2)\n",
    "cos_sim_1_3 = cosine_similarity(emb1, emb3)\n",
    "cos_sim_2_3 = cosine_similarity(emb2, emb3)\n",
    "\n",
    "print(f'''\n",
    "Cosine Similarity 1 -> 2: {cos_sim_1_2:.2f}\n",
    "Cosine Similarity 1 -> 3: {cos_sim_1_3:.2f}\n",
    "Cosine Similarity 2 -> 3: {cos_sim_2_3:.2f}\n",
    "''')\n",
    "\n",
    "\n",
    "# Calculate the cosine distances based on the previously calculated similarities\n",
    "cos_dist_1_2 = 1 - cos_sim_1_2\n",
    "cos_dist_1_3 = 1 - cos_sim_1_3\n",
    "cos_dist_2_3 = 1 - cos_sim_2_3\n",
    "\n",
    "print(f'''\n",
    "Cosine Distance 1 -> 2: {cos_dist_1_2:.2f}\n",
    "Cosine Distance 1 -> 3: {cos_dist_1_3:.2f}\n",
    "Cosine Distance 2 -> 3: {cos_dist_2_3:.2f}\n",
    "''')"
   ]
  },
  {
   "cell_type": "code",
   "execution_count": 24,
   "metadata": {},
   "outputs": [
    {
     "name": "stdout",
     "output_type": "stream",
     "text": [
      "Cosine Similarity 1 -> 2: 0.8519 Cosine Distance 1 -> 2: 0.1481\n",
      "Cosine Similarity 1 -> 3: 0.8482 Cosine Distance 1 -> 3: 0.1518\n",
      "Cosine Similarity 1 -> 4: 0.8351 Cosine Distance 1 -> 4: 0.1649\n",
      "Cosine Similarity 1 -> 5: 0.8355 Cosine Distance 1 -> 5: 0.1645\n",
      "Cosine Similarity 1 -> 6: 0.8333 Cosine Distance 1 -> 6: 0.1667\n"
     ]
    }
   ],
   "source": [
    "from langchain.embeddings.openai import OpenAIEmbeddings\n",
    "import numpy as np\n",
    "embedding = OpenAIEmbeddings()\n",
    "from numpy.linalg import norm\n",
    "\n",
    "# Calculating cosine similarity\n",
    "def cosine_similarity(A, B):\n",
    "    return np.dot(A, B) / (norm(A) * norm(B))\n",
    "\n",
    "texts = [\n",
    "    'Was steht in Art. 1 GG?', #1\n",
    "    \"Art 115c (1) Der Bund hat für den Verteidigungsfall das Recht der konkurrierenden Gesetzgebung auch auf den Sachgebieten, die zur Gesetzgebungszuständigkeit der Länder gehören. Diese Gesetze bedürfen der Zustimmung des Bundesrates. (2) Soweit es die Verhältnisse während des Verteidigungsfalles erfordern, kann durch Bundesgesetz für den Verteidigungsfall 1. bei Enteignungen abweichend von Artikel 14 Abs. 3 Satz 2 die Entschädigung vorläufig geregelt werden, 2. für Freiheitsentziehungen eine von Artikel 104 Abs. 2 Satz 3 und Abs. 3 Satz 1 abweichende Frist, höchstens jedoch eine solche von vier Tagen, für den Fall festgesetzt werden, daß ein Richter nicht innerhalb der für Normalzeiten geltenden Frist tätig werden konnte\", #2\n",
    "    \"Art 1 (1) Die Würde des Menschen ist unantastbar. Sie zu achten und zu schützen ist Verpflichtung aller staatlichen Gewalt. (2) Das Deutsche Volk bekennt sich darum zu unverletzlichen und unveräußerlichen Menschenrechten als Grundlage jeder menschlichen Gemeinschaft, des Friedens und der Gerechtigkeit in der Welt. (3) Die nachfolgenden Grundrechte binden Gesetzgebung, vollziehende Gewalt und Rechtsprechung als unmittelbar geltendes Recht.\",#3\n",
    "    \"Ein Verstoß gegen das von Art. 2 Abs. 1 i.V.m. Art. 1 Abs. 1 GG geschützte Recht am eigenen Wort liegt insbesondere vor, wenn ein Zeuge heimlich Gespräche mithört (sog. Lauschzeuge) oder aber die Worte heimlich aufgezeichnet werden. Denn das Recht am eigenen Wort umfasst insbesondere auch selbst zu bestimmen, wen das Wort erreichen soll und wo es verkörpert wird. Mithin ist die Verwertung grds. unzulässig. Eine Ausnahme wird nur dann anerkannt, wenn sich der Beweispflichtige in einer notwehrähnlichen Situation befunden hat oder Aufgezeichnete oder Belauschte in die Praktik eingewilligt hat; auch eine mutmaßliche Einwilligung ist zulässig\",#4\n",
    "    \"Art 141 Artikel 7 Abs. 3 Satz 1 findet keine Anwendung in einem Lande, in dem am 1. Januar 1949 eine andere landesrechtliche Regelung bestand.\", #5\n",
    "    \"§ 71 Abs. 2: Änd. durch G v. 26.6.1981 I 553 gem. BVerfGE v. 19.10.1982 I 1493 mit Art. 70 GG unvereinbar und daher nichtig\" #6\n",
    "]\n",
    "\n",
    "embeddings = [embedding.embed_query(text) for text in texts]\n",
    "\n",
    "# Assuming the first text is your query\n",
    "query_embedding = embeddings[0]\n",
    "\n",
    "# Calculate and print cosine similarities and distances with the query\n",
    "for i, emb in enumerate(embeddings[1:], start=2):\n",
    "    cos_sim = cosine_similarity(query_embedding, emb)\n",
    "    cos_dist = 1 - cos_sim\n",
    "    print(f'Cosine Similarity 1 -> {i}: {cos_sim:.4f}', f'Cosine Distance 1 -> {i}: {cos_dist:.4f}')\n"
   ]
  },
  {
   "cell_type": "code",
   "execution_count": 21,
   "metadata": {},
   "outputs": [
    {
     "data": {
      "text/plain": [
       "3"
      ]
     },
     "execution_count": 21,
     "metadata": {},
     "output_type": "execute_result"
    }
   ],
   "source": [
    "len(embeddings)"
   ]
  },
  {
   "cell_type": "code",
   "execution_count": 21,
   "metadata": {},
   "outputs": [],
   "source": [
    "df = df[df['User'].notna() & df['User'].str.contains(\"§\")]"
   ]
  },
  {
   "cell_type": "code",
   "execution_count": 25,
   "metadata": {},
   "outputs": [
    {
     "data": {
      "text/plain": [
       "(4201, 4)"
      ]
     },
     "execution_count": 25,
     "metadata": {},
     "output_type": "execute_result"
    }
   ],
   "source": [
    "{\n",
    "  \"query\": \"Was steht in Art. 1 GG?\",\n",
    "  \"result\": \"Artikel 1 des Grundgesetzes (GG) für die Bundesrepublik Deutschland lautet wie folgt:\\n\\n(1) Die Würde des Menschen ist unantastbar. Sie zu achten und zu schützen ist Verpflichtung aller staatlichen Gewalt.\\n(2) Das Deutsche Volk bekennt sich darum zu unverletzlichen und unveräußerlichen Menschenrechten als Grundlage jeder menschlichen Gemeinschaft, des Friedens und der Gerechtigkeit in der Welt.\\n(3) Die nachfolgenden Grundrechte binden Gesetzgebung, vollziehende Gewalt und Rechtsprechung als unmittelbar geltendes Recht.\\n\\nDieser Artikel ist der erste und grundlegendste Artikel des Grundgesetzes und legt die Basis für alle weiteren Gesetze und Verordnungen in Deutschland. Er stellt die Würde des Menschen und die unverletzlichen und unveräußerlichen Menschenrechte in den Mittelpunkt und bindet alle staatlichen Gewalten an diese Grundsätze.\",\n",
    "  \"source_documents\": [\n",
    "    {\n",
    "      \"page_content\": \"Art 115c (1) Der Bund hat für den Verteidigungsfall das Recht der konkurrierenden Gesetzgebung auch auf den Sachgebieten, die zur Gesetzgebungszuständigkeit der Länder gehören. Diese Gesetze bedürfen der Zustimmung des Bundesrates. (2) Soweit es die Verhältnisse während des Verteidigungsfalles erfordern, kann durch Bundesgesetz für den Verteidigungsfall 1. bei Enteignungen abweichend von Artikel 14 Abs. 3 Satz 2 die Entschädigung vorläufig geregelt werden, 2. für Freiheitsentziehungen eine von Artikel 104 Abs. 2 Satz 3 und Abs. 3 Satz 1 abweichende Frist, höchstens jedoch eine solche von vier Tagen, für den Fall festgesetzt werden, daß ein Richter nicht innerhalb der für Normalzeiten geltenden Frist tätig werden konnte\"\n",
    "    },\n",
    "    {\n",
    "      \"page_content\": \"Art 1 (1) Die Würde des Menschen ist unantastbar. Sie zu achten und zu schützen ist Verpflichtung aller staatlichen Gewalt. (2) Das Deutsche Volk bekennt sich darum zu unverletzlichen und unveräußerlichen Menschenrechten als Grundlage jeder menschlichen Gemeinschaft, des Friedens und der Gerechtigkeit in der Welt. (3) Die nachfolgenden Grundrechte binden Gesetzgebung, vollziehende Gewalt und Rechtsprechung als unmittelbar geltendes Recht.\"\n",
    "    },\n",
    "    {\n",
    "      \"page_content\": \"Ein Verstoß gegen das von Art. 2 Abs. 1 i.V.m. Art. 1 Abs. 1 GG geschützte Recht am eigenen Wort liegt insbesondere vor, wenn ein Zeuge heimlich Gespräche mithört (sog. Lauschzeuge) oder aber die Worte heimlich aufgezeichnet werden. Denn das Recht am eigenen Wort umfasst insbesondere auch selbst zu bestimmen, wen das Wort erreichen soll und wo es verkörpert wird. Mithin ist die Verwertung grds. unzulässig. Eine Ausnahme wird nur dann anerkannt, wenn sich der Beweispflichtige in einer notwehrähnlichen Situation befunden hat oder Aufgezeichnete oder Belauschte in die Praktik eingewilligt hat; auch eine mutmaßliche Einwilligung ist zulässig\"\n",
    "    },\n",
    "    {\n",
    "      \"page_content\": \"Art 141 Artikel 7 Abs. 3 Satz 1 findet keine Anwendung in einem Lande, in dem am 1. Januar 1949 eine andere landesrechtliche Regelung bestand.\"\n",
    "    },\n",
    "    {\n",
    "      \"page_content\": \"§ 71 Abs. 2: Änd. durch G v. 26.6.1981 I 553 gem. BVerfGE v. 19.10.1982 I 1493 mit Art. 70 GG unvereinbar und daher nichtig\"\n",
    "    }\n",
    "  ]\n",
    "}\n"
   ]
  },
  {
   "cell_type": "code",
   "execution_count": 23,
   "metadata": {},
   "outputs": [],
   "source": [
    "df.to_csv('../../data/train_gg.csv', index=False)"
   ]
  },
  {
   "cell_type": "code",
   "execution_count": 11,
   "metadata": {},
   "outputs": [
    {
     "name": "stdout",
     "output_type": "stream",
     "text": [
      "0.994525113068317\n"
     ]
    }
   ],
   "source": [
    "#how much data smaller than 1024 tokens\n",
    "print(df[df[\"Assistant_token_length\"] < 8094].shape[0] / df.shape[0])"
   ]
  },
  {
   "cell_type": "code",
   "execution_count": 12,
   "metadata": {},
   "outputs": [
    {
     "data": {
      "text/plain": [
       "0.02766936"
      ]
     },
     "execution_count": 12,
     "metadata": {},
     "output_type": "execute_result"
    }
   ],
   "source": [
    "df[\"Assistant_token_length\"].sum()*0.02/1000000 #$0.02 / 1M tokens"
   ]
  },
  {
   "cell_type": "code",
   "execution_count": 14,
   "metadata": {},
   "outputs": [
    {
     "data": {
      "text/plain": [
       "329.31873363484885"
      ]
     },
     "execution_count": 14,
     "metadata": {},
     "output_type": "execute_result"
    }
   ],
   "source": [
    "df[\"Assistant_token_length\"].mean() #mean token length"
   ]
  },
  {
   "cell_type": "code",
   "execution_count": 11,
   "metadata": {},
   "outputs": [
    {
     "data": {
      "image/png": "[encoded data removed]",
      "text/plain": [
       "<Figure size 1000x600 with 1 Axes>"
      ]
     },
     "metadata": {},
     "output_type": "display_data"
    },
    {
     "data": {
      "image/png": "[encoded data removed]",
      "text/plain": [
       "<Figure size 1000x600 with 1 Axes>"
      ]
     },
     "metadata": {},
     "output_type": "display_data"
    }
   ],
   "source": [
    "import pandas as pd\n",
    "import seaborn as sns\n",
    "import matplotlib.pyplot as plt\n",
    "\n",
    "# Plotting the distribution of the numerical column\n",
    "sns.set(style=\"whitegrid\")  # Set the aesthetic style of the plots\n",
    "\n",
    "# Histogram\n",
    "plt.figure(figsize=(10, 6))\n",
    "sns.histplot(df['Assistant_token_length'], kde=False, color=\"blue\", bins=10)\n",
    "plt.title('Histogram of YourColumnName')\n",
    "plt.xlabel('Assistant_token_length')\n",
    "plt.ylabel('Frequency')\n",
    "plt.show()\n",
    "\n",
    "# KDE Plot\n",
    "plt.figure(figsize=(10, 6))\n",
    "sns.kdeplot(df['Assistant_token_length'], color=\"red\", fill=True)\n",
    "plt.title('KDE Plot of Assistant_token_length')\n",
    "plt.xlabel('Assistant_token_length')\n",
    "plt.ylabel('Density')\n",
    "plt.show()"
   ]
  },
  {
   "cell_type": "code",
   "execution_count": null,
   "metadata": {},
   "outputs": [],
   "source": []
  }
 ],
 "metadata": {
  "kernelspec": {
   "display_name": "Python 3",
   "language": "python",
   "name": "python3"
  },
  "language_info": {
   "codemirror_mode": {
    "name": "ipython",
    "version": 3
   },
   "file_extension": ".py",
   "mimetype": "text/x-python",
   "name": "python",
   "nbconvert_exporter": "python",
   "pygments_lexer": "ipython3",
   "version": "3.11.7"
  }
 },
 "nbformat": 4,
 "nbformat_minor": 2
}
