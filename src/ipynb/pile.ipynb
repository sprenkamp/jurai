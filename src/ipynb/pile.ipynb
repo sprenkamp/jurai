{
 "cells": [
  {
   "cell_type": "code",
   "execution_count": 1,
   "metadata": {},
   "outputs": [],
   "source": [
    "import pandas as pd\n",
    "\n",
    "df = pd.read_csv('../../output.csv')\n"
   ]
  },
  {
   "cell_type": "code",
   "execution_count": 2,
   "metadata": {},
   "outputs": [
    {
     "data": {
      "text/html": [
       "<div>\n",
       "<style scoped>\n",
       "    .dataframe tbody tr th:only-of-type {\n",
       "        vertical-align: middle;\n",
       "    }\n",
       "\n",
       "    .dataframe tbody tr th {\n",
       "        vertical-align: top;\n",
       "    }\n",
       "\n",
       "    .dataframe thead th {\n",
       "        text-align: right;\n",
       "    }\n",
       "</style>\n",
       "<table border=\"1\" class=\"dataframe\">\n",
       "  <thead>\n",
       "    <tr style=\"text-align: right;\">\n",
       "      <th></th>\n",
       "      <th>Verordnung zu qualifizierten Einrichtungen und qualifizierten\\nWirtschaftsverbänden  (QEWV)\\nQEWV\\nAusfertigungsdatum: 07.06.2021\\nVollzitat:\\n\"Verordnung zu qualifizierten Einrichtungen und qualifizierten Wirtschaftsverbänden vom 7. Juni 2021 (BGBl. I S.\\n1832, 4832), die durch Artikel 11 des Gesetzes vom 8. Oktober 2023 (BGBl. 2023 I Nr. 272) geändert worden ist\"\\nStand: Geändert durch Art. 11 G v. 8.10.2023 I Nr. 272\\nFußnote\\n(+++ Textnachweis ab: 26.6.2021 +++)</th>\n",
       "    </tr>\n",
       "  </thead>\n",
       "  <tbody>\n",
       "    <tr>\n",
       "      <th>0</th>\n",
       "      <td>Eingangsformel  \\nAuf Grund\\n–   des § 4d des ...</td>\n",
       "    </tr>\n",
       "    <tr>\n",
       "      <th>1</th>\n",
       "      <td>durch Artikel 1 Nummer 2 und § 4d des Unterlas...</td>\n",
       "    </tr>\n",
       "    <tr>\n",
       "      <th>2</th>\n",
       "      <td>Unterlassungsklagengesetzes\\n§ 1 Antrag auf Ei...</td>\n",
       "    </tr>\n",
       "    <tr>\n",
       "      <th>3</th>\n",
       "      <td>des Vereins sowie die Adressen der Webseiten, ...</td>\n",
       "    </tr>\n",
       "    <tr>\n",
       "      <th>4</th>\n",
       "      <td>4.   das Datum, zu dem der Verein mit der Wahr...</td>\n",
       "    </tr>\n",
       "    <tr>\n",
       "      <th>...</th>\n",
       "      <td>...</td>\n",
       "    </tr>\n",
       "    <tr>\n",
       "      <th>305939</th>\n",
       "      <td>a)  beseitigt,\\n \\nb)  verarbeitet,\\n \\nc)  au...</td>\n",
       "    </tr>\n",
       "    <tr>\n",
       "      <th>305940</th>\n",
       "      <td>tierisches Nebenprodukt oder ein verarbeitetes...</td>\n",
       "    </tr>\n",
       "    <tr>\n",
       "      <th>305941</th>\n",
       "      <td>oder ein verarbeitetes Erzeugnis versendet,\\n ...</td>\n",
       "    </tr>\n",
       "    <tr>\n",
       "      <th>305942</th>\n",
       "      <td>§ 2   \\nOrdnungswidrig im Sinne des § 14 Abs. ...</td>\n",
       "    </tr>\n",
       "    <tr>\n",
       "      <th>305943</th>\n",
       "      <td>dort genannte Veterinärbescheinigung befördert...</td>\n",
       "    </tr>\n",
       "  </tbody>\n",
       "</table>\n",
       "<p>305944 rows × 1 columns</p>\n",
       "</div>"
      ],
      "text/plain": [
       "       Verordnung zu qualifizierten Einrichtungen und qualifizierten\\nWirtschaftsverbänden  (QEWV)\\nQEWV\\nAusfertigungsdatum: 07.06.2021\\nVollzitat:\\n\"Verordnung zu qualifizierten Einrichtungen und qualifizierten Wirtschaftsverbänden vom 7. Juni 2021 (BGBl. I S.\\n1832, 4832), die durch Artikel 11 des Gesetzes vom 8. Oktober 2023 (BGBl. 2023 I Nr. 272) geändert worden ist\"\\nStand: Geändert durch Art. 11 G v. 8.10.2023 I Nr. 272\\nFußnote\\n(+++ Textnachweis ab: 26.6.2021 +++)\n",
       "0       Eingangsformel  \\nAuf Grund\\n–   des § 4d des ...                                                                                                                                                                                                                                                                                                                                                                                                                                    \n",
       "1       durch Artikel 1 Nummer 2 und § 4d des Unterlas...                                                                                                                                                                                                                                                                                                                                                                                                                                    \n",
       "2       Unterlassungsklagengesetzes\\n§ 1 Antrag auf Ei...                                                                                                                                                                                                                                                                                                                                                                                                                                    \n",
       "3       des Vereins sowie die Adressen der Webseiten, ...                                                                                                                                                                                                                                                                                                                                                                                                                                    \n",
       "4       4.   das Datum, zu dem der Verein mit der Wahr...                                                                                                                                                                                                                                                                                                                                                                                                                                    \n",
       "...                                                   ...                                                                                                                                                                                                                                                                                                                                                                                                                                    \n",
       "305939  a)  beseitigt,\\n \\nb)  verarbeitet,\\n \\nc)  au...                                                                                                                                                                                                                                                                                                                                                                                                                                    \n",
       "305940  tierisches Nebenprodukt oder ein verarbeitetes...                                                                                                                                                                                                                                                                                                                                                                                                                                    \n",
       "305941  oder ein verarbeitetes Erzeugnis versendet,\\n ...                                                                                                                                                                                                                                                                                                                                                                                                                                    \n",
       "305942  § 2   \\nOrdnungswidrig im Sinne des § 14 Abs. ...                                                                                                                                                                                                                                                                                                                                                                                                                                    \n",
       "305943  dort genannte Veterinärbescheinigung befördert...                                                                                                                                                                                                                                                                                                                                                                                                                                    \n",
       "\n",
       "[305944 rows x 1 columns]"
      ]
     },
     "execution_count": 2,
     "metadata": {},
     "output_type": "execute_result"
    }
   ],
   "source": [
    "df"
   ]
  },
  {
   "cell_type": "code",
   "execution_count": null,
   "metadata": {},
   "outputs": [],
   "source": []
  }
 ],
 "metadata": {
  "kernelspec": {
   "display_name": "jurai",
   "language": "python",
   "name": "python3"
  },
  "language_info": {
   "codemirror_mode": {
    "name": "ipython",
    "version": 3
   },
   "file_extension": ".py",
   "mimetype": "text/x-python",
   "name": "python",
   "nbconvert_exporter": "python",
   "pygments_lexer": "ipython3",
   "version": "3.11.7"
  }
 },
 "nbformat": 4,
 "nbformat_minor": 2
}
